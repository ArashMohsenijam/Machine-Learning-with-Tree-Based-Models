{
 "cells": [
  {
   "cell_type": "markdown",
   "metadata": {},
   "source": [
    "# Bike Sharing Demand"
   ]
  },
  {
   "cell_type": "code",
   "execution_count": 22,
   "metadata": {},
   "outputs": [],
   "source": [
    "import pandas as pd\n",
    "import numpy as np\n",
    "import matplotlib.pyplot as plt"
   ]
  },
  {
   "cell_type": "code",
   "execution_count": 8,
   "metadata": {},
   "outputs": [
    {
     "name": "stdout",
     "output_type": "stream",
     "text": [
      "    hr  holiday  workingday  temp   hum  windspeed  cnt  instant  mnth  yr  \\\n",
      "0    0        0           0  0.76  0.66     0.0000  149    13004     7   1   \n",
      "1    1        0           0  0.74  0.70     0.1343   93    13005     7   1   \n",
      "2    2        0           0  0.72  0.74     0.0896   90    13006     7   1   \n",
      "3    3        0           0  0.72  0.84     0.1343   33    13007     7   1   \n",
      "4    4        0           0  0.70  0.79     0.1940    4    13008     7   1   \n",
      "5    5        0           0  0.68  0.79     0.1045   10    13009     7   1   \n",
      "6    6        0           0  0.70  0.79     0.0896   27    13010     7   1   \n",
      "7    7        0           0  0.74  0.70     0.0000   50    13011     7   1   \n",
      "8    8        0           0  0.78  0.62     0.1045  142    13012     7   1   \n",
      "9    9        0           0  0.82  0.56     0.0000  219    13013     7   1   \n",
      "10  10        0           0  0.86  0.44     0.2985  366    13014     7   1   \n",
      "11  11        0           0  0.88  0.39     0.2239  377    13015     7   1   \n",
      "12  12        0           0  0.90  0.37     0.2239  433    13016     7   1   \n",
      "13  13        0           0  0.92  0.33     0.2537  420    13017     7   1   \n",
      "14  14        0           0  0.92  0.33     0.2537  444    13018     7   1   \n",
      "\n",
      "    Clear to partly cloudy  Light Precipitation  Misty  \n",
      "0                        1                    0      0  \n",
      "1                        1                    0      0  \n",
      "2                        1                    0      0  \n",
      "3                        1                    0      0  \n",
      "4                        1                    0      0  \n",
      "5                        1                    0      0  \n",
      "6                        1                    0      0  \n",
      "7                        1                    0      0  \n",
      "8                        1                    0      0  \n",
      "9                        1                    0      0  \n",
      "10                       1                    0      0  \n",
      "11                       1                    0      0  \n",
      "12                       1                    0      0  \n",
      "13                       1                    0      0  \n",
      "14                       1                    0      0  \n",
      "<class 'pandas.core.frame.DataFrame'>\n",
      "RangeIndex: 1488 entries, 0 to 1487\n",
      "Data columns (total 13 columns):\n",
      "hr                        1488 non-null int64\n",
      "holiday                   1488 non-null int64\n",
      "workingday                1488 non-null int64\n",
      "temp                      1488 non-null float64\n",
      "hum                       1488 non-null float64\n",
      "windspeed                 1488 non-null float64\n",
      "cnt                       1488 non-null int64\n",
      "instant                   1488 non-null int64\n",
      "mnth                      1488 non-null int64\n",
      "yr                        1488 non-null int64\n",
      "Clear to partly cloudy    1488 non-null int64\n",
      "Light Precipitation       1488 non-null int64\n",
      "Misty                     1488 non-null int64\n",
      "dtypes: float64(3), int64(10)\n",
      "memory usage: 151.2 KB\n",
      "None\n",
      "                hr      holiday   workingday         temp          hum  \\\n",
      "count  1488.000000  1488.000000  1488.000000  1488.000000  1488.000000   \n",
      "mean     11.500000     0.016129     0.709677     0.732083     0.627359   \n",
      "std       6.924514     0.126014     0.454064     0.081782     0.171463   \n",
      "min       0.000000     0.000000     0.000000     0.560000     0.190000   \n",
      "25%       5.750000     0.000000     0.000000     0.660000     0.490000   \n",
      "50%      11.500000     0.000000     1.000000     0.720000     0.650000   \n",
      "75%      17.250000     0.000000     1.000000     0.800000     0.780000   \n",
      "max      23.000000     1.000000     1.000000     1.000000     0.940000   \n",
      "\n",
      "         windspeed          cnt       instant         mnth      yr  \\\n",
      "count  1488.000000  1488.000000   1488.000000  1488.000000  1488.0   \n",
      "mean      0.157783   280.987903  13747.500000     7.500000     1.0   \n",
      "std       0.101847   221.170077    429.692914     0.500168     0.0   \n",
      "min       0.000000     2.000000  13004.000000     7.000000     1.0   \n",
      "25%       0.104500    90.000000  13375.750000     7.000000     1.0   \n",
      "50%       0.164200   255.000000  13747.500000     7.500000     1.0   \n",
      "75%       0.223900   414.000000  14119.250000     8.000000     1.0   \n",
      "max       0.611900   941.000000  14491.000000     8.000000     1.0   \n",
      "\n",
      "       Clear to partly cloudy  Light Precipitation        Misty  \n",
      "count             1488.000000          1488.000000  1488.000000  \n",
      "mean                 0.710349             0.057796     0.231855  \n",
      "std                  0.453753             0.233435     0.422159  \n",
      "min                  0.000000             0.000000     0.000000  \n",
      "25%                  0.000000             0.000000     0.000000  \n",
      "50%                  1.000000             0.000000     0.000000  \n",
      "75%                  1.000000             0.000000     0.000000  \n",
      "max                  1.000000             1.000000     1.000000  \n",
      "hr                        0\n",
      "holiday                   0\n",
      "workingday                0\n",
      "temp                      0\n",
      "hum                       0\n",
      "windspeed                 0\n",
      "cnt                       0\n",
      "instant                   0\n",
      "mnth                      0\n",
      "yr                        0\n",
      "Clear to partly cloudy    0\n",
      "Light Precipitation       0\n",
      "Misty                     0\n",
      "dtype: int64\n"
     ]
    }
   ],
   "source": [
    "df = pd.read_csv('bikes.csv', index_col=None)\n",
    "print(df.head(15))\n",
    "print(df.info())\n",
    "print(df.describe())\n",
    "print(df.isnull().sum())"
   ]
  },
  {
   "cell_type": "code",
   "execution_count": 9,
   "metadata": {},
   "outputs": [],
   "source": [
    "X=df.drop('cnt',axis=1)\n",
    "y=df.cnt"
   ]
  },
  {
   "cell_type": "code",
   "execution_count": 10,
   "metadata": {},
   "outputs": [],
   "source": [
    "from sklearn.model_selection import train_test_split\n",
    "\n",
    "X_train, X_test, y_train, y_test= train_test_split(X,y,test_size=0.3,random_state=20)"
   ]
  },
  {
   "cell_type": "markdown",
   "metadata": {},
   "source": [
    "## 1.Random Forest"
   ]
  },
  {
   "cell_type": "code",
   "execution_count": 11,
   "metadata": {},
   "outputs": [
    {
     "data": {
      "text/plain": [
       "RandomForestRegressor(bootstrap=True, criterion='mse', max_depth=None,\n",
       "                      max_features='auto', max_leaf_nodes=None,\n",
       "                      min_impurity_decrease=0.0, min_impurity_split=None,\n",
       "                      min_samples_leaf=1, min_samples_split=2,\n",
       "                      min_weight_fraction_leaf=0.0, n_estimators=25,\n",
       "                      n_jobs=None, oob_score=False, random_state=2, verbose=0,\n",
       "                      warm_start=False)"
      ]
     },
     "execution_count": 11,
     "metadata": {},
     "output_type": "execute_result"
    }
   ],
   "source": [
    "# Import RandomForestRegressor\n",
    "from sklearn.ensemble import RandomForestRegressor\n",
    "\n",
    "# Instantiate rf\n",
    "rf = RandomForestRegressor(n_estimators=25,\n",
    "            random_state=2)\n",
    "            \n",
    "# Fit rf to the training set    \n",
    "rf.fit(X_train, y_train) "
   ]
  },
  {
   "cell_type": "code",
   "execution_count": 19,
   "metadata": {},
   "outputs": [
    {
     "name": "stdout",
     "output_type": "stream",
     "text": [
      "Test set RMSE of rf: 52.77\n"
     ]
    }
   ],
   "source": [
    "# Import mean_squared_error as MSE\n",
    "from sklearn.metrics import mean_squared_error as MSE\n",
    "\n",
    "# Predict the test set labels\n",
    "y_pred = rf.predict(X_test)\n",
    "\n",
    "# Evaluate the test set RMSE\n",
    "rmse_test = (MSE(y_test,y_pred))**(1/2)\n",
    "\n",
    "# Print rmse_test\n",
    "print('Test set RMSE of rf: {:.2f}'.format(rmse_test))"
   ]
  },
  {
   "cell_type": "markdown",
   "metadata": {},
   "source": [
    "## 2. DecisionTree (CART)"
   ]
  },
  {
   "cell_type": "code",
   "execution_count": 20,
   "metadata": {},
   "outputs": [
    {
     "name": "stdout",
     "output_type": "stream",
     "text": [
      "Test set RMSE of rf: 61.88\n"
     ]
    }
   ],
   "source": [
    "from sklearn.tree import DecisionTreeRegressor\n",
    "\n",
    "dt=DecisionTreeRegressor()\n",
    "\n",
    "dt.fit(X_train,y_train)\n",
    "\n",
    "y_predict_dt = dt.predict(X_test)\n",
    "\n",
    "# Evaluate the test set RMSE\n",
    "rmse_test = (MSE(y_test,y_predict_dt))**(1/2)\n",
    "\n",
    "# Print rmse_test\n",
    "print('Test set RMSE of rf: {:.2f}'.format(rmse_test))"
   ]
  },
  {
   "cell_type": "code",
   "execution_count": 24,
   "metadata": {
    "scrolled": true
   },
   "outputs": [
    {
     "data": {
      "image/png": "[encoded data removed]",
      "text/plain": [
       "<Figure size 432x288 with 1 Axes>"
      ]
     },
     "metadata": {
      "needs_background": "light"
     },
     "output_type": "display_data"
    }
   ],
   "source": [
    "# Create a pd.Series of features importances\n",
    "importances = pd.Series(data=rf.feature_importances_,\n",
    "                        index= X_train.columns)\n",
    "\n",
    "# Sort importances\n",
    "importances_sorted = importances.sort_values()\n",
    "\n",
    "# Draw a horizontal barplot of importances_sorted\n",
    "importances_sorted.plot(kind='barh', color='lightgreen')\n",
    "plt.title('Features Importances')\n",
    "plt.show()"
   ]
  },
  {
   "cell_type": "markdown",
   "metadata": {},
   "source": [
    "## 3.Gradient Boosting"
   ]
  },
  {
   "cell_type": "markdown",
   "metadata": {},
   "source": [
    "### Define the GB regressor\n"
   ]
  },
  {
   "cell_type": "code",
   "execution_count": 25,
   "metadata": {},
   "outputs": [],
   "source": [
    "# Import GradientBoostingRegressor\n",
    "from sklearn.ensemble import GradientBoostingRegressor\n",
    "\n",
    "# Instantiate gb\n",
    "gb = GradientBoostingRegressor(n_estimators=200, \n",
    "            max_depth=4,\n",
    "            random_state=2)"
   ]
  },
  {
   "cell_type": "markdown",
   "metadata": {},
   "source": [
    "### Train the GB regressor"
   ]
  },
  {
   "cell_type": "code",
   "execution_count": 26,
   "metadata": {},
   "outputs": [],
   "source": [
    "# Fit gb to the training set\n",
    "gb.fit(X_train,y_train)\n",
    "\n",
    "# Predict test set labels\n",
    "y_pred = gb.predict(X_test)"
   ]
  },
  {
   "cell_type": "markdown",
   "metadata": {},
   "source": [
    "### Evaluate the GB regressor"
   ]
  },
  {
   "cell_type": "code",
   "execution_count": 27,
   "metadata": {},
   "outputs": [
    {
     "name": "stdout",
     "output_type": "stream",
     "text": [
      "Test set RMSE of gb: 47.488\n"
     ]
    }
   ],
   "source": [
    "# Import mean_squared_error as MSE\n",
    "from sklearn.metrics import mean_squared_error as MSE  \n",
    "\n",
    "# Compute MSE\n",
    "mse_test = MSE(y_test,y_pred)\n",
    "\n",
    "# Compute RMSE\n",
    "rmse_test = (mse_test)**(1/2)\n",
    "\n",
    "# Print RMSE\n",
    "print('Test set RMSE of gb: {:.3f}'.format(rmse_test))"
   ]
  },
  {
   "cell_type": "markdown",
   "metadata": {},
   "source": [
    "### Regression with SGB\n"
   ]
  },
  {
   "cell_type": "code",
   "execution_count": 28,
   "metadata": {},
   "outputs": [],
   "source": [
    "# Import GradientBoostingRegressor\n",
    "from sklearn.ensemble import GradientBoostingRegressor\n",
    "\n",
    "# Instantiate sgbr\n",
    "sgbr = GradientBoostingRegressor(max_depth=4, \n",
    "            subsample=0.9,\n",
    "            max_features=0.75,\n",
    "            n_estimators=200,                                \n",
    "            random_state=2)"
   ]
  },
  {
   "cell_type": "markdown",
   "metadata": {},
   "source": [
    "### Train the SGB regressor\n"
   ]
  },
  {
   "cell_type": "code",
   "execution_count": 30,
   "metadata": {},
   "outputs": [],
   "source": [
    "# Fit sgbr to the training set\n",
    "sgbr.fit(X_train,y_train)\n",
    "\n",
    "# Predict test set labels\n",
    "y_pred = sgbr.predict(X_test)"
   ]
  },
  {
   "cell_type": "markdown",
   "metadata": {},
   "source": [
    "### Evaluate the SGB regressor"
   ]
  },
  {
   "cell_type": "code",
   "execution_count": 32,
   "metadata": {},
   "outputs": [
    {
     "name": "stdout",
     "output_type": "stream",
     "text": [
      "Test set RMSE of sgbr: 50.954\n"
     ]
    }
   ],
   "source": [
    "# Import mean_squared_error as MSE\n",
    "from sklearn.metrics import mean_squared_error as MSE \n",
    "\n",
    "# Compute test set MSE\n",
    "mse_test = MSE(y_test,y_pred)\n",
    "\n",
    "# Compute test set RMSE\n",
    "rmse_test = (mse_test)**(1/2)\n",
    "\n",
    "# Print rmse_test\n",
    "print('Test set RMSE of sgbr: {:.3f}'.format(rmse_test))"
   ]
  },
  {
   "cell_type": "markdown",
   "metadata": {},
   "source": [
    "### Random forests hyperparameters\n"
   ]
  },
  {
   "cell_type": "code",
   "execution_count": 33,
   "metadata": {},
   "outputs": [
    {
     "data": {
      "text/plain": [
       "{'bootstrap': True,\n",
       " 'criterion': 'mse',\n",
       " 'max_depth': None,\n",
       " 'max_features': 'auto',\n",
       " 'max_leaf_nodes': None,\n",
       " 'min_impurity_decrease': 0.0,\n",
       " 'min_impurity_split': None,\n",
       " 'min_samples_leaf': 1,\n",
       " 'min_samples_split': 2,\n",
       " 'min_weight_fraction_leaf': 0.0,\n",
       " 'n_estimators': 25,\n",
       " 'n_jobs': None,\n",
       " 'oob_score': False,\n",
       " 'random_state': 2,\n",
       " 'verbose': 0,\n",
       " 'warm_start': False}"
      ]
     },
     "execution_count": 33,
     "metadata": {},
     "output_type": "execute_result"
    }
   ],
   "source": [
    "rf.get_params()"
   ]
  },
  {
   "cell_type": "markdown",
   "metadata": {},
   "source": [
    "### Set the hyperparameter grid of RF\n"
   ]
  },
  {
   "cell_type": "code",
   "execution_count": 34,
   "metadata": {},
   "outputs": [],
   "source": [
    "# Define the dictionary 'params_rf'\n",
    "params_rf = {'n_estimators':[100,350,500],'max_features':['log2','auto','sqrt'],'min_samples_leaf':[2,10,30]}\n"
   ]
  },
  {
   "cell_type": "markdown",
   "metadata": {},
   "source": [
    "### Search for the optimal forest\n"
   ]
  },
  {
   "cell_type": "code",
   "execution_count": 37,
   "metadata": {},
   "outputs": [
    {
     "name": "stdout",
     "output_type": "stream",
     "text": [
      "Fitting 3 folds for each of 27 candidates, totalling 81 fits\n"
     ]
    },
    {
     "name": "stderr",
     "output_type": "stream",
     "text": [
      "[Parallel(n_jobs=-1)]: Using backend LokyBackend with 12 concurrent workers.\n",
      "[Parallel(n_jobs=-1)]: Done  26 tasks      | elapsed:    6.0s\n",
      "[Parallel(n_jobs=-1)]: Done  81 out of  81 | elapsed:    8.1s finished\n"
     ]
    },
    {
     "data": {
      "text/plain": [
       "GridSearchCV(cv=3, error_score='raise-deprecating',\n",
       "             estimator=RandomForestRegressor(bootstrap=True, criterion='mse',\n",
       "                                             max_depth=None,\n",
       "                                             max_features='auto',\n",
       "                                             max_leaf_nodes=None,\n",
       "                                             min_impurity_decrease=0.0,\n",
       "                                             min_impurity_split=None,\n",
       "                                             min_samples_leaf=1,\n",
       "                                             min_samples_split=2,\n",
       "                                             min_weight_fraction_leaf=0.0,\n",
       "                                             n_estimators=25, n_jobs=None,\n",
       "                                             oob_score=False, random_state=2,\n",
       "                                             verbose=0, warm_start=False),\n",
       "             iid='warn', n_jobs=-1,\n",
       "             param_grid={'max_features': ['log2', 'auto', 'sqrt'],\n",
       "                         'min_samples_leaf': [2, 10, 30],\n",
       "                         'n_estimators': [100, 350, 500]},\n",
       "             pre_dispatch='2*n_jobs', refit=True, return_train_score=False,\n",
       "             scoring='neg_mean_squared_error', verbose=1)"
      ]
     },
     "execution_count": 37,
     "metadata": {},
     "output_type": "execute_result"
    }
   ],
   "source": [
    "# Import GridSearchCV\n",
    "from sklearn.model_selection import GridSearchCV\n",
    "\n",
    "# Instantiate grid_rf\n",
    "grid_rf = GridSearchCV(estimator=rf,\n",
    "                       param_grid=params_rf,\n",
    "                       scoring='neg_mean_squared_error',\n",
    "                       cv=3,\n",
    "                       verbose=1,\n",
    "                       n_jobs=-1)\n",
    "grid_rf.fit(X_train,y_train)"
   ]
  },
  {
   "cell_type": "markdown",
   "metadata": {},
   "source": [
    "### Evaluate the optimal forest\n"
   ]
  },
  {
   "cell_type": "code",
   "execution_count": 38,
   "metadata": {},
   "outputs": [
    {
     "name": "stdout",
     "output_type": "stream",
     "text": [
      "Test RMSE of best model: 51.852\n"
     ]
    }
   ],
   "source": [
    "# Import mean_squared_error from sklearn.metrics as MSE \n",
    "from sklearn.metrics import mean_squared_error as MSE\n",
    "\n",
    "# Extract the best estimator\n",
    "best_model = grid_rf.best_estimator_\n",
    "\n",
    "# Predict test set labels\n",
    "y_pred = best_model.predict(X_test)\n",
    "\n",
    "# Compute rmse_test\n",
    "rmse_test = (MSE(y_test,y_pred))**(1/2)\n",
    "\n",
    "# Print rmse_test\n",
    "print('Test RMSE of best model: {:.3f}'.format(rmse_test)) "
   ]
  },
  {
   "cell_type": "markdown",
   "metadata": {},
   "source": []
  },
  {
   "cell_type": "code",
   "execution_count": null,
   "metadata": {},
   "outputs": [],
   "source": []
  }
 ],
 "metadata": {
  "kernelspec": {
   "display_name": "Python 3",
   "language": "python",
   "name": "python3"
  },
  "language_info": {
   "codemirror_mode": {
    "name": "ipython",
    "version": 3
   },
   "file_extension": ".py",
   "mimetype": "text/x-python",
   "name": "python",
   "nbconvert_exporter": "python",
   "pygments_lexer": "ipython3",
   "version": "3.7.4"
  }
 },
 "nbformat": 4,
 "nbformat_minor": 2
}
